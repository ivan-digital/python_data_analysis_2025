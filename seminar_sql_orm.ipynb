{
  "nbformat": 4,
  "nbformat_minor": 0,
  "metadata": {
    "colab": {
      "provenance": []
    },
    "kernelspec": {
      "name": "python3",
      "display_name": "Python 3"
    },
    "language_info": {
      "name": "python"
    }
  },
  "cells": [
    {
      "cell_type": "markdown",
      "source": [
        "## Немного про межпроцессорную коммуникацию\n",
        "\n",
        "В multiprocessing в Python есть два основных способа организации обмена данными между процессами — это Queue и Pipe. Хотя оба объекта служат для межпроцессной передачи, у них есть заметные отличия:"
      ],
      "metadata": {
        "id": "TH9JoSozpj4C"
      }
    },
    {
      "cell_type": "code",
      "source": [
        "from multiprocessing import Process\n",
        "import os\n",
        "\n",
        "def info(title):\n",
        "    print(title)\n",
        "    print('module name:', __name__)\n",
        "    print('parent process:', os.getppid())\n",
        "    print('process id:', os.getpid())\n",
        "\n",
        "def f(name):\n",
        "    info('function f')\n",
        "    print('hello', name)\n",
        "\n",
        "info('main line')\n",
        "p = Process(target=f, args=('bob',))\n",
        "p.start()\n",
        "p.join()"
      ],
      "metadata": {
        "colab": {
          "base_uri": "https://localhost:8080/"
        },
        "id": "6EuE2y3fwVHj",
        "outputId": "0e18f93b-b0f8-40b2-c0d1-eb77213fe80f"
      },
      "execution_count": null,
      "outputs": [
        {
          "output_type": "stream",
          "name": "stdout",
          "text": [
            "main line\n",
            "module name: __main__\n",
            "parent process: 90\n",
            "process id: 2344\n",
            "function f\n",
            " module name:__main__\n",
            "parent process: 2344\n",
            "process id: 21561\n",
            "hello bob\n"
          ]
        }
      ]
    },
    {
      "cell_type": "markdown",
      "source": [
        "### Пример 1.1: Использование multiprocessing.Queue\n",
        "\n",
        "Задача:\n",
        "\n",
        "\t•\tСоздать процессы, которые принимают сообщения из очереди и выводят их на экран, пока не получат сигнал остановки.\n",
        "\t•\tГлавный процесс кладёт в очередь несколько сообщений и затем команду на остановку.\n"
      ],
      "metadata": {
        "id": "uEFYvkG4vUav"
      }
    },
    {
      "cell_type": "code",
      "source": [
        "import multiprocessing\n",
        "import time\n",
        "\n",
        "def worker(queue):\n",
        "    \"\"\"Процесс-потребитель, считывает данные из очереди\"\"\"\n",
        "    while True:\n",
        "        msg = queue.get()\n",
        "        if msg == \"STOP\":\n",
        "            print(f\"[{multiprocessing.current_process().name}] Получил STOP, завершаюсь.\")\n",
        "            break\n",
        "        print(f\"[{multiprocessing.current_process().name}] Получил сообщение: {msg}\")\n",
        "        time.sleep(0.5)\n",
        "\n",
        "if __name__ == '__main__':\n",
        "    # Создаём очередь\n",
        "    msg_queue = multiprocessing.Queue()\n",
        "\n",
        "    # Создаём два рабочих процесса\n",
        "    p1 = multiprocessing.Process(target=worker, args=(msg_queue,), name=\"Worker-1\")\n",
        "    p2 = multiprocessing.Process(target=worker, args=(msg_queue,), name=\"Worker-2\")\n",
        "\n",
        "    p1.start()\n",
        "    p2.start()\n",
        "\n",
        "    # Кладём в очередь несколько сообщений\n",
        "    for i in range(5):\n",
        "        msg_queue.put(f\"Сообщение #{i}\")\n",
        "\n",
        "    # Команда на остановку для каждого процесса\n",
        "    msg_queue.put(\"STOP\")\n",
        "    msg_queue.put(\"STOP\")\n",
        "\n",
        "    # Ждём завершения процессов\n",
        "    p1.join()\n",
        "    p2.join()\n",
        "\n",
        "    print(\"Главный процесс завершён.\")"
      ],
      "metadata": {
        "colab": {
          "base_uri": "https://localhost:8080/"
        },
        "id": "EHGO2eECvXIa",
        "outputId": "b3e5d5ca-0362-428c-f05e-7d994fede343"
      },
      "execution_count": null,
      "outputs": [
        {
          "output_type": "stream",
          "name": "stdout",
          "text": [
            "[Worker-1] Получил сообщение: Сообщение #0[Worker-2] Получил сообщение: Сообщение #1\n",
            "\n",
            "[Worker-1] Получил сообщение: Сообщение #2\n",
            "[Worker-2] Получил сообщение: Сообщение #3\n",
            "[Worker-1] Получил сообщение: Сообщение #4\n",
            "[Worker-2] Получил STOP, завершаюсь.\n",
            "[Worker-1] Получил STOP, завершаюсь.\n",
            "Главный процесс завершён.\n"
          ]
        }
      ]
    },
    {
      "cell_type": "markdown",
      "source": [
        "### Пример 1.2: Использование multiprocessing.Pipe\n",
        "\n",
        "Задача:\n",
        "\n",
        "\t•\tСоздать два процесса, которые обмениваются данными через двунаправленный канал Pipe.\n",
        "\t•\tОдин процесс генерирует данные, другой процесс их обрабатывает и отправляет обратно."
      ],
      "metadata": {
        "id": "9b_XQg4AvdDI"
      }
    },
    {
      "cell_type": "code",
      "source": [
        "# этот код подвисает, хотя сгенерирован о1 pro, как исправить?\n",
        "\n",
        "import multiprocessing\n",
        "import time\n",
        "\n",
        "def producer(conn):\n",
        "    \"\"\"Генератор данных\"\"\"\n",
        "    for i in range(5):\n",
        "        data = f\"Данные {i}\"\n",
        "        print(f\"[Producer] Отправка: {data}\")\n",
        "        conn.send(data)\n",
        "        time.sleep(0.5)\n",
        "    # Сигнал о завершении\n",
        "    conn.send(\"STOP\")\n",
        "    conn.close()\n",
        "\n",
        "def consumer(conn):\n",
        "    \"\"\"Обработчик данных\"\"\"\n",
        "    while True:\n",
        "        data = conn.recv()\n",
        "        if data == \"STOP\":\n",
        "            print(\"[Consumer] Получен STOP, завершаюсь.\")\n",
        "            conn.send(\"STOP\")\n",
        "            break\n",
        "\n",
        "        print(f\"[Consumer] Получил: {data}, обрабатываю...\")\n",
        "        time.sleep(0.5)\n",
        "        # Отправляем ответ обратно\n",
        "        conn.send(f\"Обработано: {data}\")\n",
        "\n",
        "if __name__ == '__main__':\n",
        "    # Создаём двунаправленный канал\n",
        "    parent_conn, child_conn = multiprocessing.Pipe(duplex=True)\n",
        "\n",
        "    # Создаём процессы producer и consumer\n",
        "    p1 = multiprocessing.Process(target=producer, args=(parent_conn,))\n",
        "    p2 = multiprocessing.Process(target=consumer, args=(child_conn,))\n",
        "\n",
        "    p1.start()\n",
        "    p2.start()\n",
        "\n",
        "    # Получаем ответы от consumer, пока не встретим STOP\n",
        "    while True:\n",
        "        if parent_conn.poll():  # Проверяем, есть ли данные в канале\n",
        "            response = parent_conn.recv()\n",
        "            if response == \"STOP\":\n",
        "                print(\"[Main] Получен сигнал STOP. Завершаю работу.\")\n",
        "                break\n",
        "            print(f\"[Main] Ответ от consumer: {response}\")\n",
        "        time.sleep(0.1)\n",
        "\n",
        "    p1.join()\n",
        "    p2.join()\n",
        "    print(\"[Main] Главный процесс завершён.\")"
      ],
      "metadata": {
        "colab": {
          "base_uri": "https://localhost:8080/"
        },
        "id": "_HfsjrMhvmaH",
        "outputId": "16966022-61cf-4d88-8971-25753f3e801d"
      },
      "execution_count": 1,
      "outputs": [
        {
          "output_type": "stream",
          "name": "stdout",
          "text": [
            "[Producer] Отправка: Данные 0\n",
            "[Consumer] Получил: Данные 0, обрабатываю...\n",
            "[Producer] Отправка: Данные 1\n",
            "[Consumer] Получил: Данные 1, обрабатываю...\n",
            "[Main] Ответ от consumer: Обработано: Данные 0\n",
            "[Producer] Отправка: Данные 2\n",
            "[Consumer] Получил: Данные 2, обрабатываю...\n",
            "[Main] Ответ от consumer: Обработано: Данные 1\n",
            "[Producer] Отправка: Данные 3\n",
            "[Consumer] Получил: Данные 3, обрабатываю...\n",
            "[Main] Ответ от consumer: Обработано: Данные 2\n",
            "[Producer] Отправка: Данные 4\n",
            "[Consumer] Получил: Данные 4, обрабатываю...\n",
            "[Main] Ответ от consumer: Обработано: Данные 3\n",
            "[Consumer] Получен STOP, завершаюсь.\n",
            "[Main] Ответ от consumer: Обработано: Данные 4\n",
            "[Main] Получен сигнал STOP. Завершаю работу.\n",
            "[Main] Главный процесс завершён.\n"
          ]
        }
      ]
    },
    {
      "cell_type": "markdown",
      "source": [
        "### Задача 0: Подключение и работа с SQLite (0б)"
      ],
      "metadata": {
        "id": "xKJnHv8x2j5Y"
      }
    },
    {
      "cell_type": "markdown",
      "source": [
        "\n",
        "1. Создайте базу данных `school.db` и создайте таблицу `students` со следующими полями:\n",
        "   - `id` (INTEGER, PRIMARY KEY, AUTOINCREMENT),\n",
        "   - `name` (TEXT),\n",
        "   - `grade` (INTEGER).\n",
        "2. Вставьте данные о трёх студентах:\n",
        "   - `Alice`, оценка: 85;\n",
        "   - `Bob`, оценка: 90;\n",
        "   - `Charlie`, оценка: 75.\n",
        "3. Выведите на экран всех студентов с оценкой выше 80.\n",
        "4. Обновите оценку студента `Charlie` на 80.\n",
        "5. Удалите студента `Bob`.\n",
        "6. Выведите всю информацию из базы данных.\n"
      ],
      "metadata": {
        "id": "83RIogmRxdZH"
      }
    },
    {
      "cell_type": "code",
      "source": [
        "import sqlite3\n",
        "\n",
        "# Подключение к базе данных\n",
        "connection = sqlite3.connect(\"school.db\")\n",
        "cursor = connection.cursor()\n",
        "\n",
        "# Создание таблицы\n",
        "cursor.execute(\"\"\"\n",
        "CREATE TABLE IF NOT EXISTS students (\n",
        "    id INTEGER PRIMARY KEY AUTOINCREMENT,\n",
        "    name TEXT NOT NULL,\n",
        "    grade INTEGER NOT NULL\n",
        ")\n",
        "\"\"\")\n",
        "\n",
        "# Вставка данных\n",
        "cursor.executemany(\"INSERT INTO students (name, grade) VALUES (?, ?)\", [\n",
        "    (\"Alice\", 85),\n",
        "    (\"Bob\", 90),\n",
        "    (\"Charlie\", 75)\n",
        "])\n",
        "connection.commit()\n",
        "\n",
        "# Вывод студентов с оценкой выше 80\n",
        "cursor.execute(\"SELECT * FROM students WHERE grade > 80\")\n",
        "print(\"Студенты с оценкой выше 80:\")\n",
        "for row in cursor.fetchall():\n",
        "    print(row)\n",
        "\n",
        "# Обновление оценки Charlie\n",
        "cursor.execute(\"UPDATE students SET grade = 80 WHERE name = 'Charlie'\")\n",
        "connection.commit()\n",
        "\n",
        "# Удаление Bob\n",
        "cursor.execute(\"DELETE FROM students WHERE name = 'Bob'\")\n",
        "connection.commit()\n",
        "\n",
        "# Проверка оставшихся студентов\n",
        "cursor.execute(\"SELECT * FROM students\")\n",
        "print(\"Оставшиеся студенты:\")\n",
        "for row in cursor.fetchall():\n",
        "    print(row)\n",
        "\n",
        "connection.close()"
      ],
      "metadata": {
        "colab": {
          "base_uri": "https://localhost:8080/"
        },
        "id": "-kb9BT2fzDvU",
        "outputId": "33c4355b-66f5-4663-f112-9ba768db4fdf"
      },
      "execution_count": 2,
      "outputs": [
        {
          "output_type": "stream",
          "name": "stdout",
          "text": [
            "Студенты с оценкой выше 80:\n",
            "(1, 'Alice', 85)\n",
            "(2, 'Bob', 90)\n",
            "Оставшиеся студенты:\n",
            "(1, 'Alice', 85)\n",
            "(3, 'Charlie', 80)\n"
          ]
        }
      ]
    },
    {
      "cell_type": "markdown",
      "source": [
        "### Задача 2025 -1: Использование оконных функций (1.5б)"
      ],
      "metadata": {
        "id": "0SaLrCdf2p5Q"
      }
    },
    {
      "cell_type": "markdown",
      "source": [
        "1. Создайте SQLite-базу данных `sales.db` с таблицей `sales`:\n",
        "   - `order_id` (INTEGER, PRIMARY KEY, AUTOINCREMENT),\n",
        "   - `city` (TEXT),\n",
        "   - `manager` (TEXT),\n",
        "   - `revenue` (INTEGER).\n",
        "2. Вставьте данные:\n",
        "   - `East`, `Sam`, 450;\n",
        "   - `East`, `Linda`, 350;\n",
        "   - `West`, `John`, 600;\n",
        "   - `West`, `Lucy`, 400;\n",
        "   - `East`, `Lucy`, 250.\n",
        "3. Напишите SQL-запрос с оконными функциями для:\n",
        "   - Вычисление Обьема продаж.\n",
        "   - Вычисления ранга (`rank`)\n",
        "   - Посчитайте персентиль возможно? (`NTILE`)\n",
        "\n",
        "**Ожидаемый результат:**\n",
        "```\n",
        "('East', 'Sam',   450, 1050, 1)\n",
        "('East', 'Linda', 350, 1050, 2)\n",
        "('East', 'Lucas', 250, 1050, 3)\n",
        "('West', 'John',  600, 1000, 1)\n",
        "('West', 'Lucy',  400, 1000, 2)\n",
        "```"
      ],
      "metadata": {
        "id": "4hBoRbN9xXkp"
      }
    },
    {
      "cell_type": "code",
      "source": [
        "'''\n",
        "SELECT city, manager, revenue,\n",
        "  SUM(revenue) OVER (PARTITION BY city) AS total_sales,\n",
        "  RANK() OVER (PARTITION BY city ORDER BY revenue DESC) AS rank,\n",
        "  NTILE(3) OVER (PARTITION BY city ORDER BY revenue DESC) AS percentile\n",
        "FROM sales\n",
        "ORDER BY city, rank;\n",
        "'''"
      ],
      "metadata": {
        "id": "oYJ-6HddO7n_",
        "colab": {
          "base_uri": "https://localhost:8080/",
          "height": 52
        },
        "outputId": "91bb6bbe-8513-4a8e-8150-e62207d057b6"
      },
      "execution_count": 7,
      "outputs": [
        {
          "output_type": "execute_result",
          "data": {
            "text/plain": [
              "'SELECT city, manager, revenue,\\n  SUM(revenue) OVER (PARTITION BY city) AS total_sales,\\n  RANK() OVER (PARTITION BY city ORDER BY revenue DESC) AS rank,\\n  NTILE(3) OVER (PARTITION BY city ORDER BY revenue DESC) AS percentile\\nFROM sales\\nORDER BY city, rank;\\n'"
            ],
            "application/vnd.google.colaboratory.intrinsic+json": {
              "type": "string"
            }
          },
          "metadata": {},
          "execution_count": 7
        }
      ]
    },
    {
      "cell_type": "code",
      "source": [
        "import sqlite3\n",
        "import pandas as pd\n",
        "\n",
        "connection = sqlite3.connect(\"sales.db\")\n",
        "cursor = connection.cursor()\n",
        "\n",
        "cursor.execute(\"\"\"\n",
        "CREATE TABLE IF NOT EXISTS sales (\n",
        "    order_id INTEGER PRIMARY KEY AUTOINCREMENT,\n",
        "    city TEXT,\n",
        "    manager TEXT,\n",
        "    revenue INTEGER\n",
        ")\n",
        "\"\"\")\n",
        "\n",
        "cursor.executemany(\"\"\"\n",
        "INSERT INTO sales (city, manager, revenue) VALUES (?, ?, ?)\n",
        "\"\"\", [\n",
        "    (\"East\", \"Sam\", 450),\n",
        "    (\"East\", \"Linda\", 350),\n",
        "    (\"West\", \"John\", 600),\n",
        "    (\"West\", \"Lucy\", 400),\n",
        "    (\"East\", \"Lucy\", 250)\n",
        "])\n",
        "\n",
        "connection.commit()\n",
        "\n",
        "query = \"\"\"\n",
        "SELECT city, manager, revenue,\n",
        "       SUM(revenue) OVER (PARTITION BY city) AS total_sales,\n",
        "       RANK() OVER (PARTITION BY city ORDER BY revenue DESC) AS rank,\n",
        "       NTILE(3) OVER (PARTITION BY city ORDER BY revenue DESC) AS percentile\n",
        "FROM sales\n",
        "ORDER BY city, rank;\n",
        "\"\"\"\n",
        "\n",
        "df = pd.read_sql_query(query, connection)\n",
        "\n",
        "connection.close()\n",
        "\n",
        "print(df)"
      ],
      "metadata": {
        "colab": {
          "base_uri": "https://localhost:8080/"
        },
        "id": "4oMNOo4DSxsF",
        "outputId": "590463a4-7fd0-4fd8-916d-4eb6b5be8e2e"
      },
      "execution_count": 8,
      "outputs": [
        {
          "output_type": "stream",
          "name": "stdout",
          "text": [
            "   city manager  revenue  total_sales  rank  percentile\n",
            "0  East     Sam      450         1050     1           1\n",
            "1  East   Linda      350         1050     2           2\n",
            "2  East    Lucy      250         1050     3           3\n",
            "3  West    John      600         1000     1           1\n",
            "4  West    Lucy      400         1000     2           2\n"
          ]
        }
      ]
    },
    {
      "cell_type": "markdown",
      "source": [
        "### Задача 3: Использование индексов (0.5 б)"
      ],
      "metadata": {
        "id": "4k2tRFbY2r2w"
      }
    },
    {
      "cell_type": "markdown",
      "source": [
        "1. Создайте SQLite-базу данных `large_library.db` с таблицей `books`:\n",
        "   - `id` (INTEGER, PRIMARY KEY, AUTOINCREMENT),\n",
        "   - `title` (TEXT),\n",
        "   - `author` (TEXT),\n",
        "   - `year` (INTEGER).\n",
        "2. Вставьте 1 миллион случайных записей с помощью Python.\n",
        "3. Создайте индекс на колонке `author`.\n",
        "4. Напишите запрос для поиска всех книг автора `\"Author_100\"`. Замерьте время выполнения запроса до и после создания индекса."
      ],
      "metadata": {
        "id": "QmqKg1kHyC0c"
      }
    },
    {
      "cell_type": "code",
      "source": [
        "import sqlite3\n",
        "import time\n",
        "import random\n",
        "\n",
        "# Подключение к базе данных\n",
        "connection = sqlite3.connect(\"large_library.db\")\n",
        "cursor = connection.cursor()\n",
        "\n",
        "# Создание таблицы\n",
        "cursor.execute(\"\"\"\n",
        "CREATE TABLE IF NOT EXISTS books (\n",
        "    id INTEGER PRIMARY KEY AUTOINCREMENT,\n",
        "    title TEXT NOT NULL,\n",
        "    author TEXT NOT NULL,\n",
        "    year INTEGER NOT NULL\n",
        ")\n",
        "\"\"\")\n",
        "\n",
        "\n",
        "if not cursor.execute(\"SELECT COUNT(*) FROM books\").fetchone()[0]:\n",
        "    books = [\n",
        "        (f\"Book_{i}\", f\"Author_{random.randint(1, 1000)}\", random.randint(1900, 2023))\n",
        "        for i in range(1, 1000001)\n",
        "    ]\n",
        "    cursor.executemany(\"INSERT INTO books (title, author, year) VALUES (?, ?, ?)\", books)\n",
        "    connection.commit()\n",
        "\n",
        "# Вставка данных\n",
        "if not cursor.execute(\"SELECT COUNT(*) FROM books\").fetchone()[0]:\n",
        "    # Ваш код здесь\n",
        "    cursor.executemany(\"INSERT INTO books (title, author, year) VALUES (?, ?, ?)\", books)\n",
        "    connection.commit()\n",
        "\n",
        "# Замер времени до индекса\n",
        "start = time.time()\n",
        "cursor.execute(\"SELECT * FROM books WHERE author = 'Author_100'\")\n",
        "cursor.fetchall()\n",
        "print(f\"Время выполнения без индекса: {time.time() - start:.4f} секунд\")\n",
        "\n",
        "cursor.execute(\"CREATE INDEX IF NOT EXISTS idx_author ON books(author)\")\n",
        "connection.commit()\n",
        "\n",
        "# Замер времени после индекса\n",
        "start = time.time()\n",
        "cursor.execute(\"SELECT * FROM books WHERE author = 'Author_100'\")\n",
        "cursor.fetchall()\n",
        "print(f\"Время выполнения с индексом: {time.time() - start:.4f} секунд\")\n",
        "\n",
        "connection.close()"
      ],
      "metadata": {
        "colab": {
          "base_uri": "https://localhost:8080/"
        },
        "id": "YrZru7nJ0TVb",
        "outputId": "ea093a93-dc88-4b8d-da0d-7ff212730654"
      },
      "execution_count": 11,
      "outputs": [
        {
          "output_type": "stream",
          "name": "stdout",
          "text": [
            "Время выполнения без индекса: 0.1783 секунд\n",
            "Время выполнения с индексом: 0.0067 секунд\n"
          ]
        }
      ]
    },
    {
      "cell_type": "markdown",
      "source": [
        "### Задача 4: Использование ограничений (constraints)  (0.5 б)"
      ],
      "metadata": {
        "id": "Qb1OsENI2tj6"
      }
    },
    {
      "cell_type": "markdown",
      "source": [
        "1. Создайте базу данных `university.db` с таблицей `students`:\n",
        "   - `id` (INTEGER, PRIMARY KEY, AUTOINCREMENT),\n",
        "   - `name` (TEXT, NOT NULL),\n",
        "   - `email` (TEXT, UNIQUE),\n",
        "   - `age` (INTEGER, CHECK(age >= 18)).\n",
        "2. Попробуйте вставить записи:\n",
        "   - `Alice`, `alice@example.com`, 20;\n",
        "   - `Bob`, `bob@example.com`, 17 (должна вызвать ошибку CHECK);\n",
        "   - `Charlie`, `alice@example.com`, 22 (должна вызвать ошибку UNIQUE).\n",
        "3. Добавьте индекс на поле `name` для ускорения поиска.\n",
        "4. Напишите запрос для выборки студентов, чей возраст больше 19."
      ],
      "metadata": {
        "id": "dkU8b2_-yKbG"
      }
    },
    {
      "cell_type": "code",
      "source": [
        "import sqlite3\n",
        "\n",
        "connection = sqlite3.connect(\"university.db\")\n",
        "cursor = connection.cursor()\n",
        "\n",
        "cursor.execute(\"\"\"\n",
        "CREATE TABLE IF NOT EXISTS students (\n",
        "    id INTEGER PRIMARY KEY AUTOINCREMENT,\n",
        "    name TEXT NOT NULL,\n",
        "    email TEXT UNIQUE,\n",
        "    age INTEGER CHECK(age >= 18)\n",
        ")\n",
        "\"\"\")\n",
        "\n",
        "students_data = [\n",
        "    (\"Alice\", \"alice@example.com\", 20),\n",
        "    (\"Bob\", \"bob@example.com\", 17),  # Ошибка CHECK\n",
        "    (\"Charlie\", \"alice@example.com\", 22)  # Ошибка UNIQUE\n",
        "]\n",
        "\n",
        "for student in students_data:\n",
        "    try:\n",
        "        cursor.execute(\"INSERT INTO students (name, email, age) VALUES (?, ?, ?)\", student)\n",
        "        connection.commit()\n",
        "    except sqlite3.IntegrityError as e:\n",
        "        print(f\"Ошибка вставки: {e}\")\n",
        "\n",
        "cursor.execute(\"CREATE INDEX IF NOT EXISTS idx_name ON students(name)\")\n",
        "connection.commit()\n",
        "\n",
        "cursor.execute(\"SELECT * FROM students WHERE age > 19\")\n",
        "students_over_19 = cursor.fetchall()\n",
        "\n",
        "connection.close()\n",
        "\n",
        "students_over_19"
      ],
      "metadata": {
        "colab": {
          "base_uri": "https://localhost:8080/"
        },
        "id": "NR4xR8dw0kDG",
        "outputId": "b7111945-3b3d-481d-9c34-30616ba38d3d"
      },
      "execution_count": 12,
      "outputs": [
        {
          "output_type": "stream",
          "name": "stdout",
          "text": [
            "Ошибка вставки: CHECK constraint failed: age >= 18\n",
            "Ошибка вставки: UNIQUE constraint failed: students.email\n"
          ]
        },
        {
          "output_type": "execute_result",
          "data": {
            "text/plain": [
              "[(1, 'Alice', 'alice@example.com', 20)]"
            ]
          },
          "metadata": {},
          "execution_count": 12
        }
      ]
    },
    {
      "cell_type": "markdown",
      "source": [
        "### Задача 2025: Создание базовой ORM-модели и работа с данными (0 б)\n"
      ],
      "metadata": {
        "id": "lX5EWTRR2w5c"
      }
    },
    {
      "cell_type": "markdown",
      "source": [
        "1. Создайте базу данных `company.db` с таблицами:\n",
        "   - `departments`:\n",
        "     - `id` (INTEGER, PRIMARY KEY, AUTOINCREMENT),\n",
        "     - `name` (TEXT, UNIQUE, NOT NULL).\n",
        "   - `employees`:\n",
        "     - `id` (INTEGER, PRIMARY KEY, AUTOINCREMENT),\n",
        "     - `name` (TEXT, NOT NULL),\n",
        "     - `salary` (INTEGER, CHECK(salary > 0)),\n",
        "     - `department_id` (INTEGER, ForeignKey(`departments.id`)).\n",
        "2. Добавьте 3 отдела:\n",
        "   - `HR`, `IT`, `Sales`.\n",
        "3. Добавьте по 2 сотрудника в каждый отдел.\n",
        "4. Напишите запросы:\n",
        "   - Вывести всех сотрудников с их отделами.\n",
        "   - Увеличить зарплату сотрудников отдела `IT` на 10%.\n",
        "   - Удалить сотрудников из отдела `Sales`.\n"
      ],
      "metadata": {
        "id": "d_yK_OOny0bS"
      }
    },
    {
      "cell_type": "code",
      "source": [
        "from sqlalchemy import create_engine, Column, Integer, String, ForeignKey, CheckConstraint\n",
        "from sqlalchemy.orm import declarative_base, sessionmaker, relationship\n",
        "\n",
        "Base = declarative_base()\n",
        "\n",
        "# Модели\n",
        "class Department(Base):\n",
        "    __tablename__ = 'departments'\n",
        "    id = Column(Integer, primary_key=True)\n",
        "    name = Column(String, unique=True, nullable=False)\n",
        "    employees = relationship(\"Employee\", back_populates=\"department\")\n",
        "\n",
        "class Employee(Base):\n",
        "    __tablename__ = 'employees'\n",
        "    id = Column(Integer, primary_key=True)\n",
        "    name = Column(String, nullable=False)\n",
        "    salary = Column(Integer, CheckConstraint(\"salary > 0\"), nullable=False)\n",
        "    department_id = Column(Integer, ForeignKey('departments.id'))\n",
        "    department = relationship(\"Department\", back_populates=\"employees\")\n",
        "\n",
        "# Создание базы данных\n",
        "engine = create_engine(\"sqlite:///company.db\")\n",
        "Base.metadata.create_all(engine)\n",
        "\n",
        "Session = sessionmaker(bind=engine)\n",
        "session = Session()\n",
        "\n",
        "# Добавление данных\n",
        "if not session.query(Department).first():\n",
        "    hr = Department(name=\"HR\", employees=[Employee(name=\"Alice\", salary=5000), Employee(name=\"Bob\", salary=4500)])\n",
        "    it = Department(name=\"IT\", employees=[Employee(name=\"Charlie\", salary=6000), Employee(name=\"David\", salary=7000)])\n",
        "    sales = Department(name=\"Sales\", employees=[Employee(name=\"Eve\", salary=4000), Employee(name=\"Frank\", salary=3000)])\n",
        "    session.add_all([hr, it, sales])\n",
        "    session.commit()\n",
        "\n",
        "# Запросы\n",
        "# 1. Вывести всех сотрудников с отделами\n",
        "employees = session.query(Employee).all()\n",
        "print(\"Все сотрудники с отделами:\")\n",
        "for employee in employees:\n",
        "    print(f\"{employee.name} - {employee.department.name}, зарплата: {employee.salary}\")\n",
        "\n",
        "# 2. Увеличить зарплату сотрудников IT на 10%\n",
        "session.query(Employee).filter(Employee.department.has(name=\"IT\")).update(\n",
        "    {Employee.salary: Employee.salary * 1.1}, synchronize_session=\"fetch\"\n",
        ")\n",
        "session.commit()\n",
        "\n",
        "# 3. Удалить сотрудников из отдела Sales\n",
        "sales_department = session.query(Department).filter_by(name=\"Sales\").first()\n",
        "session.query(Employee).filter_by(department_id=sales_department.id).delete()\n",
        "session.commit()\n",
        "\n",
        "# Проверка оставшихся сотрудников\n",
        "print(\"Сотрудники после изменений:\")\n",
        "for employee in session.query(Employee).all():\n",
        "    print(f\"{employee.name} - {employee.department.name}, зарплата: {employee.salary}\")\n",
        "\n",
        "session.close()"
      ],
      "metadata": {
        "colab": {
          "base_uri": "https://localhost:8080/"
        },
        "id": "jxZosbPf1kiI",
        "outputId": "bd4d65e3-00dc-4563-cfba-966a3d7fa546"
      },
      "execution_count": null,
      "outputs": [
        {
          "output_type": "stream",
          "name": "stdout",
          "text": [
            "Все сотрудники с отделами:\n",
            "Alice - HR, зарплата: 5000\n",
            "Bob - HR, зарплата: 4500\n",
            "Charlie - IT, зарплата: 6000\n",
            "David - IT, зарплата: 7000\n",
            "Eve - Sales, зарплата: 4000\n",
            "Frank - Sales, зарплата: 3000\n",
            "Сотрудники после изменений:\n",
            "Alice - HR, зарплата: 5000\n",
            "Bob - HR, зарплата: 4500\n",
            "Charlie - IT, зарплата: 6600.000000000001\n",
            "David - IT, зарплата: 7700.000000000001\n"
          ]
        }
      ]
    },
    {
      "cell_type": "markdown",
      "source": [
        "### Задача 6: Оптимизация запросов с использованием `joinedload` из ORM (0.5 б)"
      ],
      "metadata": {
        "id": "R6dsNFyQ27bz"
      }
    },
    {
      "cell_type": "markdown",
      "source": [
        "1. Создайте SQLite-базу данных `social.db` с таблицами:\n",
        "   - `users`: `id` (INTEGER, PRIMARY KEY), `name` (TEXT);\n",
        "   - `posts`: `id` (INTEGER, PRIMARY KEY), `title` (TEXT), `user_id` (INTEGER).\n",
        "2. Заполните таблицы следующими данными:\n",
        "   - Пользователи: `Alice`, `Bob`.\n",
        "   - Посты: для `Alice` — `Post 1`, `Post 2`; для `Bob` — `Post 3`.\n",
        "3. Напишите код, который эффективно выводит пользователей и их посты с использованием `joinedload`.\n",
        "\n",
        "https://docs.sqlalchemy.org/en/14/orm/loading_relationships.html#sqlalchemy.orm.joinedload"
      ],
      "metadata": {
        "id": "hykqLzeFxWXm"
      }
    },
    {
      "cell_type": "code",
      "source": [
        "from sqlalchemy import create_engine, Column, Integer, String, ForeignKey\n",
        "from sqlalchemy.orm import declarative_base, sessionmaker, relationship, joinedload\n",
        "\n",
        "Base = declarative_base()\n",
        "\n",
        "# Определение моделей\n",
        "class User(Base):\n",
        "    __tablename__ = 'users'\n",
        "    id = Column(Integer, primary_key=True)\n",
        "    name = Column(String)\n",
        "    posts = relationship(\"Post\", back_populates=\"user\")\n",
        "\n",
        "class Post(Base):\n",
        "    __tablename__ = 'posts'\n",
        "    id = Column(Integer, primary_key=True)\n",
        "    title = Column(String)\n",
        "    user_id = Column(Integer, ForeignKey('users.id'))\n",
        "    user = relationship(\"User\", back_populates=\"posts\")\n",
        "\n",
        "engine = create_engine(\"sqlite:///social.db\", echo=False)\n",
        "Base.metadata.create_all(engine)\n",
        "\n",
        "Session = sessionmaker(bind=engine)\n",
        "session = Session()\n",
        "\n",
        "if session.query(User).count() == 0:\n",
        "    alice = User(name=\"Alice\", posts=[Post(title=\"Post 1\"), Post(title=\"Post 2\")])\n",
        "    bob = User(name=\"Bob\", posts=[Post(title=\"Post 3\")])\n",
        "    session.add_all([alice, bob])\n",
        "    session.commit()\n",
        "\n",
        "users = session.query(User).options(joinedload(User.posts)).all()\n",
        "\n",
        "for user in users:\n",
        "    print(f\"User: {user.name}\")\n",
        "    for post in user.posts:\n",
        "        print(f\"  Post: {post.title}\")\n",
        "\n",
        "session.close()"
      ],
      "metadata": {
        "id": "X4FKjeasQ9uk",
        "colab": {
          "base_uri": "https://localhost:8080/"
        },
        "outputId": "9c0a78f7-2f8e-4f63-9be1-6a84a8c4f5d1"
      },
      "execution_count": 16,
      "outputs": [
        {
          "output_type": "stream",
          "name": "stdout",
          "text": [
            "User: Alice\n",
            "  Post: Post 1\n",
            "  Post: Post 2\n",
            "User: Bob\n",
            "  Post: Post 3\n"
          ]
        }
      ]
    }
  ]
}